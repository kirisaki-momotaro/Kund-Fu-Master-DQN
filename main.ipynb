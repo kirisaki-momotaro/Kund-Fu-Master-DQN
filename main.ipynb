{
 "cells": [
  {
   "cell_type": "code",
   "execution_count": 1,
   "metadata": {},
   "outputs": [],
   "source": [
    "import torch\n",
    "import gym\n",
    "import numpy as np\n",
    "from PIL import Image\n",
    "from agent import Agent\n",
    "import os\n",
    "import collections\n",
    "import cv2\n"
   ]
  },
  {
   "cell_type": "code",
   "execution_count": 3,
   "metadata": {},
   "outputs": [
    {
     "name": "stdout",
     "output_type": "stream",
     "text": [
      "False\n"
     ]
    }
   ],
   "source": [
    "print(torch.cuda.is_available())\n",
    "device = torch.device('cuda:0' if torch.cuda.is_available() else 'cpu')"
   ]
  },
  {
   "cell_type": "code",
   "execution_count": 4,
   "metadata": {},
   "outputs": [],
   "source": [
    "class DQNKungFuMaster(gym.Wrapper):\n",
    "    def __init__(self,render_mode='rgb_array',device='cpu'):\n",
    "        env = gym.make(\"ALE/KungFuMaster-v5\",render_mode=render_mode)\n",
    "\n",
    "        super(DQNKungFuMaster, self).__init__(env)\n",
    "        self.showimg=0\n",
    "        self.image_shape = (84,84)        \n",
    "        self.device=device\n",
    "\n",
    "    def step(self,action): #take step and get observation\n",
    "        total_reward=0\n",
    "        done = False\n",
    "        buffer=[]\n",
    "        for i in range(4): #you dont really want to react on every frame, goup frames 4 at a time\n",
    "            observation,reward,done,trucated,info=self.env.step(action)\n",
    "            total_reward+=reward\n",
    "\n",
    "            proccessed_img = Image.fromarray(observation)\n",
    "            proccessed_img = proccessed_img.resize(self.image_shape)\n",
    "            proccessed_img = proccessed_img.convert(\"L\")          \n",
    "\n",
    "            buffer.append(proccessed_img)      \n",
    "            if done == True:\n",
    "                break\n",
    "        \n",
    "        images=np.concatenate(buffer[:],axis=1)\n",
    "        buffer.clear()\n",
    "        self.showimg+=1\n",
    "        if(self.showimg>10):\n",
    "            img_to_show=Image.fromarray(images)\n",
    "            img_to_show.show()\n",
    "            self.showimg=0\n",
    "\n",
    "        \n",
    "\n",
    "\n",
    "        images = np.array(images)        \n",
    "        images = torch.from_numpy(images)\n",
    "        images = images.unsqueeze(0)\n",
    "        images = images.unsqueeze(0)\n",
    "        images = images/255.0\n",
    "        images = images.to(self.device)\n",
    "\n",
    "\n",
    "\n",
    "\n",
    "        \n",
    "        total_reward = torch.tensor(total_reward).view(1,-1).float()\n",
    "        total_reward = total_reward.to(self.device)\n",
    "\n",
    "        done = torch.tensor(done).view(1,-1)\n",
    "        done = done.to(self.device)\n",
    "\n",
    "        #max_frame = max_frame.to(self.device)\n",
    "        return images, total_reward,done,info\n",
    "\n",
    "    def reset(self):        \n",
    "        observation , _ = self.env.reset()        \n",
    "        #observation = self.process_observation(observation)\n",
    "        proccessed_img = Image.fromarray(observation)\n",
    "        proccessed_img = proccessed_img.resize(self.image_shape)\n",
    "        proccessed_img = proccessed_img.convert(\"L\")  \n",
    "        images=np.concatenate((proccessed_img,proccessed_img,proccessed_img,proccessed_img),axis=1)\n",
    "        images = np.array(images)        \n",
    "        images = torch.from_numpy(images)\n",
    "        images = images.unsqueeze(0)\n",
    "        images = images.unsqueeze(0)\n",
    "        images = images/255.0\n",
    "        images = images.to(self.device)\n",
    "        \n",
    "  \n",
    "        return observation\n",
    "\n",
    "    "
   ]
  },
  {
   "cell_type": "code",
   "execution_count": 5,
   "metadata": {},
   "outputs": [
    {
     "name": "stderr",
     "output_type": "stream",
     "text": [
      "A.L.E: Arcade Learning Environment (version 0.8.1+53f58b7)\n",
      "[Powered by Stella]\n",
      "/Users/christosioannidis/anaconda3/envs/ml/lib/python3.11/site-packages/gym/utils/passive_env_checker.py:233: DeprecationWarning: `np.bool8` is a deprecated alias for `np.bool_`.  (Deprecated NumPy 1.24)\n",
      "  if not isinstance(terminated, (bool, np.bool8)):\n"
     ]
    }
   ],
   "source": [
    "environment = DQNKungFuMaster(device=device)\n",
    "environment.reset()\n",
    "for _ in range(0,50):\n",
    "    environment.step(2)"
   ]
  },
  {
   "cell_type": "code",
   "execution_count": 9,
   "metadata": {},
   "outputs": [
    {
     "name": "stderr",
     "output_type": "stream",
     "text": [
      "/Users/christosioannidis/anaconda3/envs/ml/lib/python3.11/site-packages/gym/utils/passive_env_checker.py:233: DeprecationWarning: `np.bool8` is a deprecated alias for `np.bool_`.  (Deprecated NumPy 1.24)\n",
      "  if not isinstance(terminated, (bool, np.bool8)):\n"
     ]
    },
    {
     "ename": "",
     "evalue": "",
     "output_type": "error",
     "traceback": [
      "\u001b[1;31mThe Kernel crashed while executing code in the current cell or a previous cell. \n",
      "\u001b[1;31mPlease review the code in the cell(s) to identify a possible cause of the failure. \n",
      "\u001b[1;31mClick <a href='https://aka.ms/vscodeJupyterKernelCrash'>here</a> for more info. \n",
      "\u001b[1;31mView Jupyter <a href='command:jupyter.viewOutput'>log</a> for further details."
     ]
    }
   ],
   "source": [
    "environment = DQNKungFuMaster(device=device , render_mode='human')\n",
    "environment.reset()\n",
    "for _ in range(0,50):\n",
    "    environment.step(2)"
   ]
  }
 ],
 "metadata": {
  "kernelspec": {
   "display_name": "ml",
   "language": "python",
   "name": "python3"
  },
  "language_info": {
   "codemirror_mode": {
    "name": "ipython",
    "version": 3
   },
   "file_extension": ".py",
   "mimetype": "text/x-python",
   "name": "python",
   "nbconvert_exporter": "python",
   "pygments_lexer": "ipython3",
   "version": "3.11.7"
  }
 },
 "nbformat": 4,
 "nbformat_minor": 2
}
